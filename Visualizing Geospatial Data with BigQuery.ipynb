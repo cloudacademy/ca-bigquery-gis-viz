{
 "cells": [
  {
   "cell_type": "markdown",
   "metadata": {},
   "source": [
    "# Lab: Visualizing Geospatial Data with Python and BigQuery\n",
    "This lab will teach you how to create maps from geospatial data using the GeoJSON extension for JupyterLabs."
   ]
  },
  {
   "cell_type": "markdown",
   "metadata": {},
   "source": [
    "## Creating Maps from GeoJSON Data\n",
    "[GeoJSON](https://en.wikipedia.org/wiki/GeoJSON) is an open data standard that can represent geospatial data.  It can be used to represent points, linestrings, and polygons.  Each geospatial piece of data is called a \"Feature\" and multiple features are called a \"FeatureCollection.\"\n",
    "\n",
    "If you are familiar with Python dictionary data types, which consist of key/value pairs, you can think of GeoJSON data as a nested dictionary."
   ]
  },
  {
   "cell_type": "markdown",
   "metadata": {},
   "source": [
    "Let's start off with a simple GeoJSON object.  We will map the location of Times Square in New York City.\n",
    "\n",
    "The coordinates are:\n",
    " * Latitude: 40.7580\n",
    " * Longitude: -73.9855"
   ]
  },
  {
   "cell_type": "code",
   "execution_count": null,
   "metadata": {},
   "outputs": [],
   "source": [
    "times_square = {\"type\":\"Feature\", \"geometry\": {\"type\": \"Point\", \"coordinates\": [-73.9855, 40.7580]}}"
   ]
  },
  {
   "cell_type": "markdown",
   "metadata": {},
   "source": [
    "Now we can display this point on a map using the GeoJSON extension."
   ]
  },
  {
   "cell_type": "code",
   "execution_count": null,
   "metadata": {},
   "outputs": [],
   "source": [
    "from IPython.display import GeoJSON\n",
    "\n",
    "GeoJSON(times_square)"
   ]
  },
  {
   "cell_type": "markdown",
   "metadata": {},
   "source": [
    "We could add properties to our GeoJSON that give additional information."
   ]
  },
  {
   "cell_type": "code",
   "execution_count": null,
   "metadata": {},
   "outputs": [],
   "source": [
    "#Add data under the new \"properties\" key\n",
    "times_square[\"properties\"] = {\"Name\": \"Times Square\", \"Latitude\": 40.7580, \"Longitude\": -73.9855}\n",
    "\n",
    "times_square"
   ]
  },
  {
   "cell_type": "markdown",
   "metadata": {},
   "source": [
    "Now that we have seen how to map a single point, we can map many points by creating a Feature Collection.\n",
    "\n",
    "First, we can save a few more New York landmarks in the single point GeoJSON format."
   ]
  },
  {
   "cell_type": "code",
   "execution_count": null,
   "metadata": {},
   "outputs": [],
   "source": [
    "esb = {\"type\":\"Feature\", \"geometry\": {\"type\": \"Point\", \"coordinates\": [-73.9857, 40.7484]}, \"properties\": {\"Name\": \"Empire State Building\", \"Latitude\": 40.7484, \"Longitude\": -73.9857}}\n",
    "columbus_circle = {\"type\":\"Feature\", \"geometry\": {\"type\": \"Point\", \"coordinates\": [-73.9819, 40.7681]}, \"properties\": {\"Name\": \"Columbus Circle\", \"Latitude\": 40.7681, \"Longitude\": -73.9819}}\n",
    "rockefeller_center = {\"type\":\"Feature\", \"geometry\": {\"type\": \"Point\", \"coordinates\": [-73.9787, 40.7587]}, \"properties\": {\"Name\": \"Rockefeller Center\", \"Latitude\": 40.7587, \"Longitude\": -73.9787}}"
   ]
  },
  {
   "cell_type": "markdown",
   "metadata": {},
   "source": [
    "Finally, we can incorporate all these data points into a Feature Collection."
   ]
  },
  {
   "cell_type": "code",
   "execution_count": null,
   "metadata": {},
   "outputs": [],
   "source": [
    "nyc_landmarks = {\"type\":\"FeatureCollection\", \"features\": [times_square, esb, columbus_circle, rockefeller_center]}\n",
    "\n",
    "nyc_landmarks"
   ]
  },
  {
   "cell_type": "markdown",
   "metadata": {},
   "source": [
    "Let's see our four points on a map."
   ]
  },
  {
   "cell_type": "code",
   "execution_count": null,
   "metadata": {},
   "outputs": [],
   "source": [
    "GeoJSON(nyc_landmarks)"
   ]
  },
  {
   "cell_type": "markdown",
   "metadata": {},
   "source": [
    "Let's add another landmark: the Delacorte Theater in Central Park (this is where Shakespeare in the Park is performed every summer)."
   ]
  },
  {
   "cell_type": "code",
   "execution_count": null,
   "metadata": {},
   "outputs": [],
   "source": [
    "delacorte = {\"type\":\"Feature\", \"geometry\": {\"type\": \"Point\", \"coordinates\": [-73.9688, 40.7804]}, \"properties\": {\"Name\": \"Delacorte Theater\", \"Latitude\": 40.7804, \"Longitude\": -73.96887}}\n",
    "nyc_landmarks[\"features\"].append(delacorte)\n",
    "\n",
    "GeoJSON(nyc_landmarks)"
   ]
  },
  {
   "cell_type": "markdown",
   "metadata": {},
   "source": [
    "**Try It:**  \n",
    "Now it's your turn to add a new landmark to our map.  Can you add Grand Central Station?  \n",
    "*Hint:* The latitude is 40.7529 and the longitude is -73.9773."
   ]
  },
  {
   "cell_type": "code",
   "execution_count": null,
   "metadata": {},
   "outputs": [],
   "source": [
    "#Create single point GeoJSON for Grand Central Station\n",
    "gct = {??}\n",
    "\n",
    "#Append Grand Central to our existing NYC landmarks GeoJSON\n",
    "nyc_landmarks[\"features\"].append(??)\n",
    "\n",
    "#Map it!\n",
    "GeoJSON(??)"
   ]
  },
  {
   "cell_type": "markdown",
   "metadata": {},
   "source": [
    "## Mapping `GEOGRAPHY` Data From BigQuery GIS\n",
    "BigQuery is a serverless data warehouse solution on Google Cloud Platform (GCP) that allows users to interact with their data using standard ANSI SQL.\n",
    "\n",
    "Using the BigQuery Python API, BigQuery databases can be directly accessed via Python and/or Jupyter notebooks.\n",
    "\n",
    "BigQuery GIS allows point, line or polygon geospatial data to be stored as a special `GEOGRAPHY` data type within a BigQuery table.  This `GEOGRAPHY` datatype is stored as a [well-known text](https://en.wikipedia.org/wiki/Well-known_text_representation_of_geometry) object.  "
   ]
  },
  {
   "cell_type": "markdown",
   "metadata": {},
   "source": [
    "In order to connect to BigQuery in Python, you need to install the BigQuery Python client library and the BigQuery Storage API.  You will also need to set up the notebook to use the \"magic\" command we will be using to access BigQuery throughout this lab.  \n",
    "\n",
    "In addition, you will need to install the `pandas` package if you don't have it already installed.\n",
    "\n",
    "Note: If you are running this notebook in a GCP environment, these packages should be pre-installed."
   ]
  },
  {
   "cell_type": "code",
   "execution_count": null,
   "metadata": {},
   "outputs": [],
   "source": [
    "%pip install 'google-cloud-bigquery'\n",
    "%pip install 'google-cloud-bigquery-storage'\n",
    "%pip install 'pyarrow'\n",
    "%pip install 'pandas'\n",
    "\n",
    "%load_ext google.cloud.bigquery"
   ]
  },
  {
   "cell_type": "markdown",
   "metadata": {},
   "source": [
    "For this section of the lab, we will leverage the [public datasets](https://cloud.google.com/public-datasets) available from Google within BigQuery.  \n",
    "\n",
    "Let's start by looking at some US zip code data.  We can directly write ANSI SQL to query BigQuery tables by using the `%%bigquery` [magic command](https://googleapis.dev/python/bigquery/latest/magics.html)."
   ]
  },
  {
   "cell_type": "code",
   "execution_count": null,
   "metadata": {},
   "outputs": [],
   "source": [
    "%%bigquery\n",
    "SELECT zip_code, city, county, state_code, zip_code_geom\n",
    "FROM `bigquery-public-data.geo_us_boundaries.zip_codes`\n",
    "WHERE county = 'Los Angeles County'\n",
    "LIMIT 10;"
   ]
  },
  {
   "cell_type": "markdown",
   "metadata": {},
   "source": [
    "The table above shows 10 zip codes in Los Angeles County in California.  The `zip_code_geom` field is a polygon data object represented as BigQuery GIS's `GEOGRAPHY` data type.\n",
    "\n",
    "Let's pick one specific (rather famous) zip code in Los Angeles County and convert the `zip_code_geom` field into GeoJSON format using the [ST_ASGEOJSON](https://cloud.google.com/bigquery/docs/reference/standard-sql/geography_functions#st_asgeojson) formatter function.\n",
    "\n",
    "We can use a tag after the `%%bigquery` magic command (\"la_zips\" in this case), which will automatically store the output of the query into a `pandas` dataframe."
   ]
  },
  {
   "cell_type": "code",
   "execution_count": null,
   "metadata": {},
   "outputs": [],
   "source": [
    "%%bigquery la_zips\n",
    "SELECT zip_code, city, county, state_code, zip_code_geom, ST_ASGEOJSON(zip_code_geom) zip_GeoJSON\n",
    "FROM `bigquery-public-data.geo_us_boundaries.zip_codes`\n",
    "WHERE zip_code = '90210';"
   ]
  },
  {
   "cell_type": "markdown",
   "metadata": {},
   "source": [
    "Let's look at our `pandas` dataframe.  We have a new field called \"zip_GeoJSON\" that was created from the `GEOGRAPHY` data."
   ]
  },
  {
   "cell_type": "code",
   "execution_count": null,
   "metadata": {},
   "outputs": [],
   "source": [
    "la_zips.head()"
   ]
  },
  {
   "cell_type": "markdown",
   "metadata": {},
   "source": [
    "This is just the \"geometry\" portion of the more complex GeoJSON data structure.  The GeoJSON extension will let you map this geometry, but it will give a warning.\n",
    "\n",
    "So instead, let's further convert it to the format we saw for our NYC landmarks example above.  We will do this with the assistance of the [json](https://docs.python.org/3/library/json.html) package, which allows us to encode and decode JSON objects in Python."
   ]
  },
  {
   "cell_type": "code",
   "execution_count": null,
   "metadata": {},
   "outputs": [],
   "source": [
    "import json\n",
    "\n",
    "la_zip_polygon = {\"type\":\"Feature\", \"geometry\": json.loads(la_zips[\"zip_GeoJSON\"][0])}\n",
    "\n",
    "GeoJSON(la_zip_polygon)"
   ]
  },
  {
   "cell_type": "markdown",
   "metadata": {},
   "source": [
    "Now that we have done this for one zip code, let's go ahead and make a Feature Collection of a group of 100 zip codes in Los Angeles County."
   ]
  },
  {
   "cell_type": "code",
   "execution_count": null,
   "metadata": {},
   "outputs": [],
   "source": [
    "%%bigquery la_zips --use_bqstorage_api\n",
    "SELECT zip_code, city, county, state_code, zip_code_geom, ST_ASGEOJSON(zip_code_geom) zip_GeoJSON\n",
    "FROM `bigquery-public-data.geo_us_boundaries.zip_codes`\n",
    "WHERE county = 'Los Angeles County'\n",
    "ORDER BY zip_code\n",
    "LIMIT 100;"
   ]
  },
  {
   "cell_type": "markdown",
   "metadata": {},
   "source": [
    "Let's use a [list comprehension](https://docs.python.org/3/tutorial/datastructures.html#list-comprehensions) to create our \"features\" array.  This is a \"Pythonic\" way to create a list by looping over every item in an array."
   ]
  },
  {
   "cell_type": "code",
   "execution_count": null,
   "metadata": {},
   "outputs": [],
   "source": [
    "la_zip_polygons = [{\"type\":\"Feature\", \"geometry\": json.loads(geom)} for geom in la_zips[\"zip_GeoJSON\"]]"
   ]
  },
  {
   "cell_type": "markdown",
   "metadata": {},
   "source": [
    "We can now build our final feature collection of zip code polygons and map it."
   ]
  },
  {
   "cell_type": "code",
   "execution_count": null,
   "metadata": {},
   "outputs": [],
   "source": [
    "la_feature_collection = {\"type\":\"FeatureCollection\", \"features\": la_zip_polygons}\n",
    "\n",
    "GeoJSON(la_feature_collection)"
   ]
  },
  {
   "cell_type": "markdown",
   "metadata": {},
   "source": [
    "**Try It:**  \n",
    "Using the Google zip code public data, can you create a map of the zip codes in King County, Washington?"
   ]
  },
  {
   "cell_type": "code",
   "execution_count": null,
   "metadata": {},
   "outputs": [],
   "source": [
    "%%bigquery seattle_zips --use_bqstorage_api\n",
    "#Query to get zip codes for Seattle area (King County, WA)\n",
    "SELECT zip_code, city, county, state_code, zip_code_geom, ST_ASGEOJSON(??) zip_GeoJSON\n",
    "FROM `bigquery-public-data.geo_us_boundaries.zip_codes`\n",
    "WHERE county = 'King County' and state_code = 'WA'\n",
    "ORDER BY zip_code;"
   ]
  },
  {
   "cell_type": "code",
   "execution_count": null,
   "metadata": {},
   "outputs": [],
   "source": [
    "#Create array of zip code features\n",
    "#Note: You can use a loop here to append each polygon if you are not comfortable with list comprehensions\n",
    "seattle_zip_polygons = [??]\n",
    "\n",
    "#Create feature collection\n",
    "seattle_feature_collection = {??}\n",
    "\n",
    "#Map it!\n",
    "GeoJSON(??)"
   ]
  },
  {
   "cell_type": "markdown",
   "metadata": {},
   "source": [
    "## Explore Further\n",
    "There are many other ways to represent and visualize geospatial data within Python.  Some other packages for you to check out if you are interested in learning more about map visualizations are:  \n",
    " * [geopandas](https://geopandas.org/): This package extends `pandas` dataframes to include a \"geometry\" object, very similar to the `GEOGRAPHY` data type seen in BigQuery GIS.\n",
    " * [Plotly](https://plotly.com/python/maps/): Popular visualization library that has extensions for mapping.\n",
    " * [Bokeh](https://docs.bokeh.org/en/latest/docs/user_guide/geo.html): Another popular visualization library that allows you to create interactive maps."
   ]
  }
 ],
 "metadata": {
  "environment": {
   "name": "common-cpu.m50",
   "type": "gcloud",
   "uri": "gcr.io/deeplearning-platform-release/base-cpu:m50"
  },
  "kernelspec": {
   "display_name": "Python 3.8.3 64-bit",
   "metadata": {
    "interpreter": {
     "hash": "aee8b7b246df8f9039afb4144a1f6fd8d2ca17a180786b69acc140d282b71a49"
    }
   },
   "name": "python3"
  },
  "language_info": {
   "codemirror_mode": {
    "name": "ipython",
    "version": 3
   },
   "file_extension": ".py",
   "mimetype": "text/x-python",
   "name": "python",
   "nbconvert_exporter": "python",
   "pygments_lexer": "ipython3",
   "version": "3.8.3-final"
  }
 },
 "nbformat": 4,
 "nbformat_minor": 4
}
